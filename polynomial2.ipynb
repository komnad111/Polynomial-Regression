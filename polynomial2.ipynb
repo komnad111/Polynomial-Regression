{
 "cells": [
  {
   "cell_type": "code",
   "execution_count": 5,
   "id": "14fffad4",
   "metadata": {},
   "outputs": [],
   "source": [
    "import matplotlib.pyplot as plt\n",
    "import numpy as np\n",
    "import pandas as pd\n",
    "from sklearn.model_selection import train_test_split\n",
    "from sklearn.preprocessing import PolynomialFeatures\n",
    "from sklearn.linear_model import LinearRegression\n",
    "from sklearn.metrics import mean_squared_error\n",
    "from sklearn.linear_model import Ridge\n",
    "from sklearn.linear_model import Lasso"
   ]
  },
  {
   "cell_type": "code",
   "execution_count": 6,
   "id": "8ac8c838",
   "metadata": {},
   "outputs": [
    {
     "name": "stdout",
     "output_type": "stream",
     "text": [
      "     Inventory    Wastage      Cost\n",
      "0           35  12.231925  260.0425\n",
      "1           26   5.125732  113.5064\n",
      "2           13   0.695059   24.6853\n",
      "3           34  11.234308  240.5176\n",
      "4           35  12.231925  256.0425\n",
      "..         ...        ...       ...\n",
      "295         16   1.257772   39.2444\n",
      "296         42  20.910756  429.4792\n",
      "297         20   2.392300   68.8300\n",
      "298         11   0.433117   22.8409\n",
      "299         46  27.343252  548.2504\n",
      "\n",
      "[300 rows x 3 columns]\n"
     ]
    }
   ],
   "source": [
    "file_path = \"C:\\\\Users\\\\DeLL\\\\Desktop\\\\inventory_data.csv\"\n",
    "df = pd.read_csv(file_path)\n",
    "print(df)"
   ]
  },
  {
   "cell_type": "code",
   "execution_count": 7,
   "id": "4bc223d1",
   "metadata": {},
   "outputs": [
    {
     "data": {
      "image/png": "[encoded data removed]",
      "text/plain": [
       "<Figure size 300x300 with 1 Axes>"
      ]
     },
     "metadata": {},
     "output_type": "display_data"
    }
   ],
   "source": [
    "plt.figure(figsize=(3,3))\n",
    "plt.scatter(df.Inventory, df.Cost)\n",
    "plt.xlabel('inv')\n",
    "plt.ylabel('was')\n",
    "plt.show()"
   ]
  },
  {
   "cell_type": "code",
   "execution_count": 8,
   "id": "331bc556",
   "metadata": {},
   "outputs": [
    {
     "name": "stdout",
     "output_type": "stream",
     "text": [
      "Train Root Mean Squared Error (RMSE): 4.810133247540177\n",
      "Test Root Mean Squared Error (RMSE): 5.236574667941064\n"
     ]
    }
   ],
   "source": [
    "# Step 1: Train-Test Split\n",
    "X = df[['Inventory']]  # IV: Independent Variable(s)\n",
    "y = df['Cost']    # DV: Dependent Variable\n",
    "\n",
    "# Split the data into training and testing sets\n",
    "X_train, X_test, y_train, y_test = train_test_split(X, y, test_size=0.3, random_state=42)\n",
    "\n",
    "# Step 2: Polynomial Regression\n",
    "# You can change the degree of the polynomial if needed\n",
    "degree = 3\n",
    "poly_features = PolynomialFeatures(degree=degree)\n",
    "X_train_poly = poly_features.fit_transform(X_train)\n",
    "X_test_poly = poly_features.transform(X_test)\n",
    "\n",
    "# Fit a polynomial regression model\n",
    "poly_reg = LinearRegression()\n",
    "poly_reg.fit(X_train_poly, y_train)\n",
    "\n",
    "# Step 3: Predictions and RMSE Calculation\n",
    "# Predict on the test set\n",
    "y_pred = poly_reg.predict(X_test_poly)\n",
    "y_pred2 = poly_reg.predict(X_train_poly)\n",
    "\n",
    "# Calculate RMSE\n",
    "rmse = np.sqrt(mean_squared_error(y_train, y_pred2))\n",
    "print(\"Train Root Mean Squared Error (RMSE):\", rmse)\n",
    "rmse = np.sqrt(mean_squared_error(y_test, y_pred))\n",
    "print(\"Test Root Mean Squared Error (RMSE):\", rmse)"
   ]
  },
  {
   "cell_type": "markdown",
   "id": "76b0dc49",
   "metadata": {},
   "source": [
    "## Ridge"
   ]
  },
  {
   "cell_type": "code",
   "execution_count": 10,
   "id": "a4c5fc5f",
   "metadata": {},
   "outputs": [
    {
     "name": "stdout",
     "output_type": "stream",
     "text": [
      "0.8920086925829973\n",
      "[22.39224556]\n",
      "-404.77474137674784\n"
     ]
    }
   ],
   "source": [
    "rdg = Ridge(alpha = 0.5)\n",
    "rdg = rdg.fit(X_train, y_train)\n",
    "predictions = rdg.predict(X_test)\n",
    "print(rdg.score(X_train, y_train))\n",
    "print(rdg.coef_)\n",
    "print(rdg.intercept_)"
   ]
  },
  {
   "cell_type": "code",
   "execution_count": null,
   "id": "dfa94f3f",
   "metadata": {},
   "outputs": [],
   "source": [
    "print(\"\")"
   ]
  }
 ],
 "metadata": {
  "kernelspec": {
   "display_name": "Python 3 (ipykernel)",
   "language": "python",
   "name": "python3"
  },
  "language_info": {
   "codemirror_mode": {
    "name": "ipython",
    "version": 3
   },
   "file_extension": ".py",
   "mimetype": "text/x-python",
   "name": "python",
   "nbconvert_exporter": "python",
   "pygments_lexer": "ipython3",
   "version": "3.10.9"
  }
 },
 "nbformat": 4,
 "nbformat_minor": 5
}
